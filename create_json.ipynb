{
 "cells": [
  {
   "cell_type": "code",
   "execution_count": 1,
   "metadata": {},
   "outputs": [],
   "source": [
    "import json\n",
    "import numpy as np\n",
    "import os\n",
    "file_list = os.listdir('./COCO/label_t')"
   ]
  },
  {
   "cell_type": "code",
   "execution_count": 2,
   "metadata": {},
   "outputs": [],
   "source": [
    "dataset = {'categories': [], 'annotations': [], 'images': []}\n",
    "with open('custom.txt') as f:\n",
    "  content = f.read()\n",
    "\n",
    "for class_i, class_name in enumerate(content.split(sep='\\n')):\n",
    "  if class_name != '':\n",
    "    dataset['categories'].append({'id':class_i + 1,'name':class_name,'supercategory':'RoadSign'})"
   ]
  },
  {
   "cell_type": "code",
   "execution_count": 3,
   "metadata": {},
   "outputs": [
    {
     "data": {
      "text/plain": [
       "[{'id': 1, 'name': 'Slow', 'supercategory': 'RoadSign'},\n",
       " {'id': 2, 'name': 'Stop', 'supercategory': 'RoadSign'},\n",
       " {'id': 3, 'name': 'yield', 'supercategory': 'RoadSign'},\n",
       " {'id': 4, 'name': 'noStopping', 'supercategory': 'RoadSign'},\n",
       " {'id': 5, 'name': 'noParking', 'supercategory': 'RoadSign'},\n",
       " {'id': 6, 'name': 'noGoingStraight', 'supercategory': 'RoadSign'},\n",
       " {'id': 7, 'name': 'noRightTurn', 'supercategory': 'RoadSign'},\n",
       " {'id': 8, 'name': 'noLeftTurn', 'supercategory': 'RoadSign'},\n",
       " {'id': 9, 'name': 'noUTurn', 'supercategory': 'RoadSign'},\n",
       " {'id': 10, 'name': 'speedLimit60', 'supercategory': 'RoadSign'},\n",
       " {'id': 11, 'name': 'speedLimit50', 'supercategory': 'RoadSign'},\n",
       " {'id': 12, 'name': 'Rotary', 'supercategory': 'RoadSign'},\n",
       " {'id': 13, 'name': 'AheadOnly', 'supercategory': 'RoadSign'},\n",
       " {'id': 14, 'name': 'TurnRight', 'supercategory': 'RoadSign'},\n",
       " {'id': 15, 'name': 'TurnLeft', 'supercategory': 'RoadSign'},\n",
       " {'id': 16, 'name': 'goStraightOrRight', 'supercategory': 'RoadSign'},\n",
       " {'id': 17, 'name': 'goStraightOrLeft', 'supercategory': 'RoadSign'},\n",
       " {'id': 18, 'name': 'UTurn', 'supercategory': 'RoadSign'},\n",
       " {'id': 19, 'name': 'CrosswalkSign', 'supercategory': 'RoadSign'},\n",
       " {'id': 20, 'name': 'ChildrenSign', 'supercategory': 'RoadSign'},\n",
       " {'id': 21, 'name': 'OnewayRight', 'supercategory': 'RoadSign'},\n",
       " {'id': 22, 'name': 'OnewayLeft', 'supercategory': 'RoadSign'},\n",
       " {'id': 23, 'name': 'OnewayStraight', 'supercategory': 'RoadSign'},\n",
       " {'id': 24, 'name': 'yieldToOncomingTraffic', 'supercategory': 'RoadSign'},\n",
       " {'id': 25, 'name': 'railroadCrossing', 'supercategory': 'RoadSign'},\n",
       " {'id': 26, 'name': 'signalFlag', 'supercategory': 'RoadSign'},\n",
       " {'id': 27, 'name': 'Crosswalk_yellow', 'supercategory': 'RoadSign'},\n",
       " {'id': 28, 'name': 'ChildrenSign_yellow', 'supercategory': 'RoadSign'},\n",
       " {'id': 29, 'name': 'bicycle', 'supercategory': 'RoadSign'},\n",
       " {'id': 30, 'name': 'tunnel', 'supercategory': 'RoadSign'},\n",
       " {'id': 31, 'name': 'bridge', 'supercategory': 'RoadSign'},\n",
       " {'id': 32, 'name': 'slipperyRoad', 'supercategory': 'RoadSign'},\n",
       " {'id': 33, 'name': 'roughRoad', 'supercategory': 'RoadSign'},\n",
       " {'id': 34, 'name': 'speedBump', 'supercategory': 'RoadSign'},\n",
       " {'id': 35, 'name': 'otherCautionarySigns', 'supercategory': 'RoadSign'},\n",
       " {'id': 36, 'name': 'noThoroughfare', 'supercategory': 'RoadSign'},\n",
       " {'id': 37, 'name': 'noCar', 'supercategory': 'RoadSign'},\n",
       " {'id': 38, 'name': 'noFreightCar', 'supercategory': 'RoadSign'},\n",
       " {'id': 39, 'name': 'noVan', 'supercategory': 'RoadSign'},\n",
       " {'id': 40, 'name': 'noMotorcycle', 'supercategory': 'RoadSign'},\n",
       " {'id': 41, 'name': 'noMotorcycleAndCar', 'supercategory': 'RoadSign'},\n",
       " {'id': 42, 'name': 'noCultivator', 'supercategory': 'RoadSign'},\n",
       " {'id': 43, 'name': 'noBicycle', 'supercategory': 'RoadSign'},\n",
       " {'id': 44, 'name': 'noEntry', 'supercategory': 'RoadSign'},\n",
       " {'id': 45, 'name': 'noOutstripping', 'supercategory': 'RoadSign'},\n",
       " {'id': 46, 'name': 'weightLimit', 'supercategory': 'RoadSign'},\n",
       " {'id': 47, 'name': 'carHeightLimit', 'supercategory': 'RoadSign'},\n",
       " {'id': 48, 'name': 'carWidthLimit', 'supercategory': 'RoadSign'},\n",
       " {'id': 49, 'name': 'securingDistancebtwCar', 'supercategory': 'RoadSign'},\n",
       " {'id': 50, 'name': 'lowestSpeedLimit', 'supercategory': 'RoadSign'},\n",
       " {'id': 51, 'name': 'noPedestrianWalking', 'supercategory': 'RoadSign'},\n",
       " {'id': 52, 'name': 'noDangerousGoodsVehicle', 'supercategory': 'RoadSign'},\n",
       " {'id': 53, 'name': 'otherProhibitedSigns', 'supercategory': 'RoadSign'},\n",
       " {'id': 54, 'name': 'TurnLeftorUTurn', 'supercategory': 'RoadSign'},\n",
       " {'id': 55, 'name': 'TurnRightorLeft', 'supercategory': 'RoadSign'},\n",
       " {'id': 56, 'name': 'TwowayTraffic', 'supercategory': 'RoadSign'},\n",
       " {'id': 57, 'name': 'RightSidePass', 'supercategory': 'RoadSign'},\n",
       " {'id': 58, 'name': 'LeftSidePass', 'supercategory': 'RoadSign'},\n",
       " {'id': 59, 'name': 'PassageClassification', 'supercategory': 'RoadSign'},\n",
       " {'id': 60, 'name': 'Bypass', 'supercategory': 'RoadSign'},\n",
       " {'id': 61, 'name': 'PedestrianOnlyRoad', 'supercategory': 'RoadSign'},\n",
       " {'id': 62, 'name': 'ElderlyCareSign', 'supercategory': 'RoadSign'},\n",
       " {'id': 63, 'name': 'ProtectionOfTheDisabled', 'supercategory': 'RoadSign'},\n",
       " {'id': 64, 'name': 'OtherIndicators', 'supercategory': 'RoadSign'},\n",
       " {'id': 65, 'name': 'TrafficLight', 'supercategory': 'RoadSign'}]"
      ]
     },
     "execution_count": 3,
     "metadata": {},
     "output_type": "execute_result"
    }
   ],
   "source": [
    "dataset['categories']"
   ]
  },
  {
   "cell_type": "code",
   "execution_count": 4,
   "metadata": {},
   "outputs": [],
   "source": [
    "for file in file_list:\n",
    "    dataset['images'].append({'filename':file[:6]+'.jpg', 'id':int(file[:6]), 'width':1920, 'height':1200})"
   ]
  },
  {
   "cell_type": "code",
   "execution_count": 5,
   "metadata": {},
   "outputs": [],
   "source": [
    "global count\n",
    "count = 1 # annotation id\n",
    "width = 1920 # 사진 너비\n",
    "height = 1200 # 사진 높이\n",
    "for file in file_list:\n",
    "    with open('./COCO/label_t/' + file) as f:\n",
    "        annos = f.readlines()\n",
    "        image_id = int(file[:6])\n",
    "        for i, anno in enumerate(annos):\n",
    "            parts = anno.strip().split()\n",
    "            cls_id = int(parts[0]) + 1 # class_id는 1부터 시작\n",
    "            x_min = (np.round(float(parts[1]), 3) - (1/2 * np.round(float(parts[3]), 3))) * width\n",
    "            x_max = (np.round(float(parts[1]), 3) + (1/2 * np.round(float(parts[3]), 3))) * width \n",
    "            y_min = (np.round(float(parts[2]), 3) - (1/2 * np.round(float(parts[4]), 3))) * height\n",
    "            y_max = (np.round(float(parts[2]), 3) + (1/2 * np.round(float(parts[4]), 3))) * height\n",
    "            width_b = max(0, x_max - x_min)\n",
    "            height_b = max(0, y_max - y_min)\n",
    "            dataset['annotations'].append({\n",
    "                'area':width_b * height_b,\n",
    "                'bbox':[x_min, y_min, width_b, height_b],\n",
    "                'category_id':cls_id,\n",
    "                'id':count,\n",
    "                'image_id':image_id,\n",
    "                'iscrowd':0,\n",
    "                'segmentation':[[x_min, y_min, x_max, y_min, x_max, y_max, x_min, y_max]]\n",
    "            })\n",
    "            count += 1"
   ]
  },
  {
   "cell_type": "code",
   "execution_count": 6,
   "metadata": {},
   "outputs": [
    {
     "data": {
      "text/plain": [
       "18799"
      ]
     },
     "execution_count": 6,
     "metadata": {},
     "output_type": "execute_result"
    }
   ],
   "source": [
    "count"
   ]
  },
  {
   "cell_type": "code",
   "execution_count": 7,
   "metadata": {},
   "outputs": [],
   "source": [
    "json_name = './instances_train2017.json'\n",
    "with open(json_name, 'w') as f:\n",
    "    json.dump(dataset, f)"
   ]
  },
  {
   "cell_type": "code",
   "execution_count": 8,
   "metadata": {},
   "outputs": [],
   "source": [
    "file_list = os.listdir('./COCO/label_v')\n",
    "dataset = {'categories': [], 'annotations': [], 'images': []}\n",
    "with open('custom.txt') as f:\n",
    "  content = f.read()\n",
    "\n",
    "for class_i, class_name in enumerate(content.split(sep='\\n')):\n",
    "  if class_name != '':\n",
    "    dataset['categories'].append({'id':class_i + 1,'name':class_name,'supercategory':'RoadSign'})"
   ]
  },
  {
   "cell_type": "code",
   "execution_count": 9,
   "metadata": {},
   "outputs": [],
   "source": [
    "for file in file_list:\n",
    "    dataset['images'].append({'filename':file[:6]+'.jpg', 'id':int(file[:6]), 'width':1920, 'height':1200})"
   ]
  },
  {
   "cell_type": "code",
   "execution_count": 11,
   "metadata": {},
   "outputs": [],
   "source": [
    "global count\n",
    "count = 18800 # annotation id\n",
    "width = 1920 # 사진 너비\n",
    "height = 1200 # 사진 높이\n",
    "for file in file_list:\n",
    "    with open('./COCO/label_v/' + file) as f:\n",
    "        annos = f.readlines()\n",
    "        image_id = int(file[:6])\n",
    "        for i, anno in enumerate(annos):\n",
    "            parts = anno.strip().split()\n",
    "            cls_id = int(parts[0]) + 1 # class_id는 1부터 시작\n",
    "            x_min = (np.round(float(parts[1]), 3) - (1/2 * np.round(float(parts[3]), 3))) * width\n",
    "            x_max = (np.round(float(parts[1]), 3) + (1/2 * np.round(float(parts[3]), 3))) * width \n",
    "            y_min = (np.round(float(parts[2]), 3) - (1/2 * np.round(float(parts[4]), 3))) * height\n",
    "            y_max = (np.round(float(parts[2]), 3) + (1/2 * np.round(float(parts[4]), 3))) * height\n",
    "            width_b = max(0, x_max - x_min)\n",
    "            height_b = max(0, y_max - y_min)\n",
    "            dataset['annotations'].append({\n",
    "                'area':width_b * height_b,\n",
    "                'bbox':[x_min, y_min, width_b, height_b],\n",
    "                'category_id':cls_id,\n",
    "                'id':count,\n",
    "                'image_id':image_id,\n",
    "                'iscrowd':0,\n",
    "                'segmentation':[[x_min, y_min, x_max, y_min, x_max, y_max, x_min, y_max]]\n",
    "            })\n",
    "            count += 1"
   ]
  },
  {
   "cell_type": "code",
   "execution_count": 12,
   "metadata": {},
   "outputs": [],
   "source": [
    "json_name = './instances_val2017.json'\n",
    "with open(json_name, 'w') as f:\n",
    "    json.dump(dataset, f)"
   ]
  },
  {
   "cell_type": "code",
   "execution_count": null,
   "metadata": {},
   "outputs": [],
   "source": []
  }
 ],
 "metadata": {
  "kernelspec": {
   "display_name": "Python = 3.7 [Gaussian_YOLOv3 build]",
   "language": "python",
   "name": "gaussian"
  },
  "language_info": {
   "codemirror_mode": {
    "name": "ipython",
    "version": 3
   },
   "file_extension": ".py",
   "mimetype": "text/x-python",
   "name": "python",
   "nbconvert_exporter": "python",
   "pygments_lexer": "ipython3",
   "version": "3.7.9"
  }
 },
 "nbformat": 4,
 "nbformat_minor": 4
}
